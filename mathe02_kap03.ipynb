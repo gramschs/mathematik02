{
 "cells": [
  {
   "cell_type": "code",
   "execution_count": 1,
   "id": "fa9d275c-a55c-42dc-88c1-38851745278d",
   "metadata": {
    "jupyter": {
     "source_hidden": true
    },
    "tags": []
   },
   "outputs": [],
   "source": [
    "%matplotlib widget\n",
    "\n",
    "import matplotlib.pylab as plt\n",
    "from numpy import *\n",
    "\n",
    "plt.style.use('seaborn-whitegrid')\n"
   ]
  },
  {
   "cell_type": "code",
   "execution_count": 2,
   "id": "1181e7f7-516a-47e0-8166-1f6c335f5be3",
   "metadata": {
    "jupyter": {
     "source_hidden": true
    },
    "tags": []
   },
   "outputs": [],
   "source": [
    "def plot_3d(function, x_range = [-3,3], y_range = [-3,3]):\n",
    "\n",
    "    # generate grid\n",
    "    resolution = 100\n",
    "    x = linspace(x_range[0], x_range[1], resolution)\n",
    "    y = linspace(y_range[0], y_range[1], resolution)\n",
    "    xx, yy = meshgrid(x,y, sparse=True)\n",
    "\n",
    "    # evaluate function at grid points\n",
    "    z = function(xx, yy)\n",
    "    \n",
    "    # plot function as 3d surface plot with contours\n",
    "    fig = plt.figure()\n",
    "\n",
    "    ax = fig.add_subplot(projection='3d')\n",
    "    surface = ax.plot_surface(xx, yy, z, cmap='Blues', alpha=0.5)\n",
    "    contour = ax.contour(x, y, z)\n",
    "    ax.set_xlabel('x')\n",
    "    ax.set_ylabel('y')\n",
    "    ax.set_zlabel('z')\n",
    "    ax.set_title('f(x,y)')\n",
    "\n",
    "    fig.colorbar(surface)"
   ]
  },
  {
   "cell_type": "code",
   "execution_count": 3,
   "id": "5e346829-d6d7-4326-80f4-ac15202a0bf0",
   "metadata": {
    "jupyter": {
     "source_hidden": true
    },
    "tags": []
   },
   "outputs": [],
   "source": [
    "def plot_2d(function, x_range = [-3,3], y_range=[-3,3]):\n",
    "    \n",
    "     # generate grid\n",
    "    resolution = 100\n",
    "    x = linspace(x_range[0], x_range[1], resolution)\n",
    "    y = linspace(y_range[0], y_range[1], resolution)\n",
    "    xx, yy = meshgrid(x,y, sparse=True)\n",
    "\n",
    "    # evaluate function at grid points\n",
    "    z = function(xx, yy)\n",
    "    \n",
    "    # plot 2d\n",
    "    fig, ax = plt.subplots()\n",
    "\n",
    "    contours = ax.contour(x, y, z, 5, colors='black')\n",
    "    area = ax.imshow(z, extent=[x_range[0], x_range[1], y_range[0], y_range[1]], cmap='Blues', origin='lower', alpha=0.5)\n",
    "      \n",
    "    ax.set_aspect(\"equal\")\n",
    "    ax.clabel(contours, inline=True, fontsize=8)\n",
    "    ax.set_xlabel('x')\n",
    "    ax.set_ylabel('y')\n",
    "    ax.set_title('f(x,y)')\n",
    "\n",
    "    fig.colorbar(area);"
   ]
  },
  {
   "cell_type": "markdown",
   "id": "82309d24-607c-46e8-adfb-cbff4d079cd8",
   "metadata": {},
   "source": [
    "# Höhere Differentialrechnung\n",
    "\n",
    "Bei der höheren Differentialrechnung betrachten wir Funktionen mit mehreren Variablen. Wir fangen zuerst mit dem Fall an, dass die Funktion von zwei Variablen $x$ und $y$ abhängt. Damit ist gemeint, dass die Funktion jedem Zahlenpaar $(x,y)$ eine reelle Zahl $z$ zuordnet, also $f(x,y) = z$.\n",
    "\n",
    "Beispiele:\n",
    "* $f(x,y) = 2\\cdot x + y + 5$\n",
    "* $f(x,y) = x^2 + y^2$\n",
    "* $f(x,y) = x^2 - y^2$\n",
    "* $f(x,y) = \\frac{x^2-y^2}{x^2+y^2}$\n",
    "* $f(x,y) = \\sin(x)\\cdot \\cos(y)$"
   ]
  },
  {
   "cell_type": "markdown",
   "id": "426a3224-8873-43f3-88b3-b66f93866a9d",
   "metadata": {},
   "source": [
    "## Darstellung von Funktionen mit mehreren Variablen\n",
    "\n",
    "Um Funktionen, die von zwei Variablen abhängen, zu zeichnen, braucht man eine weitere Dimension. Das Schaubild einer Funktion $z = f(x,y)$ ist eine Fläche im dreidimensionalen Raum. Zu jedem Punkt $(x,y)$ der Definitionsmenge gehört genau einen Punkt $z$ auf der Fläche.\n",
    "\n",
    "Um sich einen besseren Eindruck des Funktionsverlaufs zu verschaffen, kann man die Fläche mit Ebenen schneiden, so dass Kurven entstehen. Besonders hilfreich sind dabei Schnitte mit Ebenen, die parallel zur x-y-Ebene liegen, die sogenannten **Höhenlinien** oder **Konturlinien**. Die Höhenlinien/Konturlinien der Funktion $z = f(x,y)$ zum sogenanten Niveau $z_0$ erfüllen die Gleichung\n",
    "\n",
    "$z_0 = f(x,y).$\n",
    "\n",
    "Entlang einer Höhenlinie/Konturlinie hat die Funktion $f$ den konstanten Wert $z_0$.\n",
    "\n",
    "Mit der Python-Funktion `plot_3d` (Implementierung siehe oben) können Sie diese Flächen mit den Höhenlinien/Konturlinien darstellen. Definieren Sie zuerst eine Funktion aus der Beispiel-Liste. \n",
    "\n",
    "Beispiele:\n",
    "\n",
    "```python\n",
    "def f(x,y):\n",
    "    return x**2 + y**2\n",
    "```\n",
    "\n",
    "\n",
    "\n",
    "```python\n",
    "def f(x,y):\n",
    "    return sin(x) * cos(y)\n",
    "````\n",
    "\n",
    "Anschließend können Sie die Funktion als `plot_3d(f)` aufrufen. In dem Fall wird $x\\in[-3,3]$ und $y\\in[-3,3]$ vorausgesetzt. Wenn Sie das Definitionsgebiet ändern möchten, können Sie der Funktion `plot_3d` zusätzliche Parameter mitgeben: `plot_3d(f, [xmin, xmax], [ymin, ymax])` nimmt als neues Definitionsgebiet für $x$ Werte aus dem Intervall $[xmin, xmax]$ und für $y$ Werte aus $[ymin, ymax]$."
   ]
  },
  {
   "cell_type": "code",
   "execution_count": 4,
   "id": "263b2857-c3bd-429e-883c-cad4f45e19ac",
   "metadata": {
    "tags": []
   },
   "outputs": [
    {
     "data": {
      "application/vnd.jupyter.widget-view+json": {
       "model_id": "c0e83d9060f84358ae629f5284bd472d",
       "version_major": 2,
       "version_minor": 0
      },
      "text/plain": [
       "Canvas(toolbar=Toolbar(toolitems=[('Home', 'Reset original view', 'home', 'home'), ('Back', 'Back to previous …"
      ]
     },
     "metadata": {},
     "output_type": "display_data"
    }
   ],
   "source": [
    "# Definieren Sie hier Ihre Funktion:\n",
    "def f(x,y):\n",
    "    return sin(x) * cos(y)\n",
    "\n",
    "# 3D-Darstellung der Funktion f(x,y)\n",
    "plot_3d(f)"
   ]
  },
  {
   "cell_type": "markdown",
   "id": "15f65932-557f-4f78-9f3c-eaf981e1c12b",
   "metadata": {},
   "source": [
    "Eine Alternative zur Darstellung der $z$-Werte als Fläche im dreidimensionalen Raum ist, die Funktionswerte $z = f(x,y)$ über Farben zu codieren. Dann genügt eine zweidimensionale Ansicht, bei der die Höhenlinien/Konturlinien sogar besser verdeutlicht werden können."
   ]
  },
  {
   "cell_type": "code",
   "execution_count": 5,
   "id": "8f3fff88-6070-474a-ab0f-ac292b0ad9e3",
   "metadata": {},
   "outputs": [
    {
     "data": {
      "application/vnd.jupyter.widget-view+json": {
       "model_id": "e617b0c2137049faa957ab74fd6edc4c",
       "version_major": 2,
       "version_minor": 0
      },
      "text/plain": [
       "Canvas(toolbar=Toolbar(toolitems=[('Home', 'Reset original view', 'home', 'home'), ('Back', 'Back to previous …"
      ]
     },
     "metadata": {},
     "output_type": "display_data"
    }
   ],
   "source": [
    "plot_2d(f)"
   ]
  },
  {
   "cell_type": "markdown",
   "id": "64d0c446-a78b-4777-9ea1-9f347f65fe55",
   "metadata": {},
   "source": [
    "## Kapitel 3, Übung 1\n",
    "\n",
    "Als erstes zeichnen wir die Funktionen:"
   ]
  },
  {
   "cell_type": "code",
   "execution_count": 6,
   "id": "a8bdf3ac-2f5b-44b5-8a7d-9479b480153a",
   "metadata": {},
   "outputs": [],
   "source": [
    "def funktion31a(x,y):\n",
    "    return exp(x) * exp(y)\n",
    "\n",
    "def funktion31b(x,y):\n",
    "    return exp(x*y)\n",
    "\n",
    "def funktion31c(x,y):\n",
    "    return sin(x) * cos(y)\n",
    "\n",
    "# Warum kann diese Funktion nicht mit plot_3d oder plot_2d gezeichnet werden?\n",
    "def funktion31d(x,y,z):\n",
    "    return 1/(2 * x**2 + sqrt(y**2 + z**2))"
   ]
  },
  {
   "cell_type": "code",
   "execution_count": 7,
   "id": "97b0ab52-afab-46e7-9fe6-c2f69926e005",
   "metadata": {},
   "outputs": [
    {
     "data": {
      "application/vnd.jupyter.widget-view+json": {
       "model_id": "0ecc3a4874b14c818e110ad47fa2b981",
       "version_major": 2,
       "version_minor": 0
      },
      "text/plain": [
       "Canvas(toolbar=Toolbar(toolitems=[('Home', 'Reset original view', 'home', 'home'), ('Back', 'Back to previous …"
      ]
     },
     "metadata": {},
     "output_type": "display_data"
    },
    {
     "data": {
      "application/vnd.jupyter.widget-view+json": {
       "model_id": "73dc8a55cfe2408780dd502ca180f76c",
       "version_major": 2,
       "version_minor": 0
      },
      "text/plain": [
       "Canvas(toolbar=Toolbar(toolitems=[('Home', 'Reset original view', 'home', 'home'), ('Back', 'Back to previous …"
      ]
     },
     "metadata": {},
     "output_type": "display_data"
    },
    {
     "data": {
      "application/vnd.jupyter.widget-view+json": {
       "model_id": "28178b8f79634dc29ab1401fc7caab5d",
       "version_major": 2,
       "version_minor": 0
      },
      "text/plain": [
       "Canvas(toolbar=Toolbar(toolitems=[('Home', 'Reset original view', 'home', 'home'), ('Back', 'Back to previous …"
      ]
     },
     "metadata": {},
     "output_type": "display_data"
    }
   ],
   "source": [
    "plot_3d(funktion31a, [-1,1], [-1,1])\n",
    "plot_3d(funktion31b, [-1,1], [-1,1])\n",
    "plot_3d(funktion31c, [-1,1], [-1,1])"
   ]
  },
  {
   "cell_type": "markdown",
   "id": "2cd833b9-27c7-4b95-b8db-ec564990c4f7",
   "metadata": {},
   "source": [
    "Als nächstes berechnen wir die partiellen Ableitungen symbolisch. Dazu laden wi das Modul `sympy` und definieren die Variablen `x`, `y` und `z` als Symbole."
   ]
  },
  {
   "cell_type": "code",
   "execution_count": 8,
   "id": "e012d1ad-17a6-415f-8aed-71b3598cf09a",
   "metadata": {},
   "outputs": [],
   "source": [
    "from sympy import *\n",
    "x, y, z = symbols('x y z')\n",
    "init_printing(use_unicode=True)"
   ]
  },
  {
   "cell_type": "code",
   "execution_count": 9,
   "id": "37db88b4-acbd-4806-ba14-bc1764fc2376",
   "metadata": {},
   "outputs": [
    {
     "name": "stdout",
     "output_type": "stream",
     "text": [
      "1. Ableitung nach x:  exp(x)*exp(y)\n",
      "1. Ableitung nach y:  exp(x)*exp(y)\n"
     ]
    }
   ],
   "source": [
    "# partielle Ableitung Aufgabe 3.1 a\n",
    "\n",
    "f = exp(x) * exp(y)\n",
    "\n",
    "print('1. Ableitung nach x: ', diff(f, x))\n",
    "print('1. Ableitung nach y: ', diff(f, y))"
   ]
  },
  {
   "cell_type": "code",
   "execution_count": 10,
   "id": "6fa65e19-6bae-4f02-ad0f-2457152ae739",
   "metadata": {},
   "outputs": [
    {
     "name": "stdout",
     "output_type": "stream",
     "text": [
      "1. Ableitung nach x:  y*exp(x*y)\n",
      "1. Ableitung nach y:  x*exp(x*y)\n"
     ]
    }
   ],
   "source": [
    "# 1. partielle Ableitung Aufgabe 3.1 b\n",
    "\n",
    "f = exp(x*y)\n",
    "print('1. Ableitung nach x: ', diff(f,x))\n",
    "print('1. Ableitung nach y: ', diff(f,y))"
   ]
  },
  {
   "cell_type": "code",
   "execution_count": 11,
   "id": "e1521458-52e0-452f-9c46-de48a6f7765c",
   "metadata": {},
   "outputs": [
    {
     "name": "stdout",
     "output_type": "stream",
     "text": [
      "1. Ableitung nach x:  cos(x)*cos(y)\n",
      "1. Ableitung nach y:  -sin(x)*sin(y)\n"
     ]
    }
   ],
   "source": [
    "# 1. partielle Ableitung Aufgabe 3.1 c\n",
    "\n",
    "f = sin(x) * cos(y)\n",
    "print('1. Ableitung nach x: ', diff(f,x))\n",
    "print('1. Ableitung nach y: ', diff(f,y))"
   ]
  },
  {
   "cell_type": "code",
   "execution_count": 12,
   "id": "8e2459a0-e675-4818-bd4c-bf9e9a37095b",
   "metadata": {},
   "outputs": [
    {
     "name": "stdout",
     "output_type": "stream",
     "text": [
      "1. Ableitung nach x:  -4*x/(2*x**2 + sqrt(y**2 + z**3))**2\n",
      "1. Ableitung nach y:  -y/((2*x**2 + sqrt(y**2 + z**3))**2*sqrt(y**2 + z**3))\n",
      "1. Ableitung nach z:  -3*z**2/(2*(2*x**2 + sqrt(y**2 + z**3))**2*sqrt(y**2 + z**3))\n"
     ]
    }
   ],
   "source": [
    "# 1. partielle Ableitung Aufgabe 3.1 d\n",
    "\n",
    "f = 1/(2*x**2 + sqrt(y**2 + z**3))\n",
    "print('1. Ableitung nach x: ', diff(f,x))\n",
    "print('1. Ableitung nach y: ', diff(f,y))\n",
    "print('1. Ableitung nach z: ', diff(f,z))"
   ]
  },
  {
   "cell_type": "markdown",
   "id": "493342f6-db2c-4c19-a7e6-725a2b900481",
   "metadata": {},
   "source": [
    "### Aufgabe 3.2"
   ]
  },
  {
   "cell_type": "code",
   "execution_count": 13,
   "id": "857ca96c-2e05-445f-8b10-59b539ad1b13",
   "metadata": {},
   "outputs": [
    {
     "name": "stdout",
     "output_type": "stream",
     "text": [
      "\n",
      "Ableitung nach x und nach x = \n",
      "  ⎛       2⎞\n",
      "2⋅⎝3⋅x + y ⎠\n",
      "\n",
      "Ableitung nach x und nach y = \n",
      "4⋅x⋅y + 1\n",
      "\n",
      "Ableitung nach y und nach x = \n",
      "4⋅x⋅y + 1\n",
      "\n",
      "Ableitung nach y und nach y = \n",
      "  ⎛ 2      ⎞\n",
      "2⋅⎝x  + 3⋅y⎠\n"
     ]
    }
   ],
   "source": [
    "f = x**3 + y**3 + x**2 * y**2 + x*y + 1\n",
    "\n",
    "for i in [x,y]:\n",
    "    for j in [x,y]:\n",
    "        print('\\nAbleitung nach {} und nach {} = '.format(i,j))\n",
    "        pprint( diff(f, i, j) )"
   ]
  },
  {
   "cell_type": "code",
   "execution_count": 14,
   "id": "4a1ad56b-cb34-4a69-8058-be91a12f607c",
   "metadata": {},
   "outputs": [
    {
     "name": "stdout",
     "output_type": "stream",
     "text": [
      "\n",
      "Ableitung nach x und nach x = \n",
      "  ⎛       2        ⎞\n",
      "  ⎜    4⋅x         ⎟\n",
      "2⋅⎜──────────── - 1⎟\n",
      "  ⎜ 2    2    2    ⎟\n",
      "  ⎝x  + y  + z     ⎠\n",
      "────────────────────\n",
      "                2   \n",
      "  ⎛ 2    2    2⎞    \n",
      "  ⎝x  + y  + z ⎠    \n",
      "\n",
      "Ableitung nach x und nach y = \n",
      "     8⋅x⋅y     \n",
      "───────────────\n",
      "              3\n",
      "⎛ 2    2    2⎞ \n",
      "⎝x  + y  + z ⎠ \n",
      "\n",
      "Ableitung nach x und nach z = \n",
      "     8⋅x⋅z     \n",
      "───────────────\n",
      "              3\n",
      "⎛ 2    2    2⎞ \n",
      "⎝x  + y  + z ⎠ \n",
      "\n",
      "Ableitung nach y und nach x = \n",
      "     8⋅x⋅y     \n",
      "───────────────\n",
      "              3\n",
      "⎛ 2    2    2⎞ \n",
      "⎝x  + y  + z ⎠ \n",
      "\n",
      "Ableitung nach y und nach y = \n",
      "  ⎛       2        ⎞\n",
      "  ⎜    4⋅y         ⎟\n",
      "2⋅⎜──────────── - 1⎟\n",
      "  ⎜ 2    2    2    ⎟\n",
      "  ⎝x  + y  + z     ⎠\n",
      "────────────────────\n",
      "                2   \n",
      "  ⎛ 2    2    2⎞    \n",
      "  ⎝x  + y  + z ⎠    \n",
      "\n",
      "Ableitung nach y und nach z = \n",
      "     8⋅y⋅z     \n",
      "───────────────\n",
      "              3\n",
      "⎛ 2    2    2⎞ \n",
      "⎝x  + y  + z ⎠ \n",
      "\n",
      "Ableitung nach z und nach x = \n",
      "     8⋅x⋅z     \n",
      "───────────────\n",
      "              3\n",
      "⎛ 2    2    2⎞ \n",
      "⎝x  + y  + z ⎠ \n",
      "\n",
      "Ableitung nach z und nach y = \n",
      "     8⋅y⋅z     \n",
      "───────────────\n",
      "              3\n",
      "⎛ 2    2    2⎞ \n",
      "⎝x  + y  + z ⎠ \n",
      "\n",
      "Ableitung nach z und nach z = \n",
      "  ⎛       2        ⎞\n",
      "  ⎜    4⋅z         ⎟\n",
      "2⋅⎜──────────── - 1⎟\n",
      "  ⎜ 2    2    2    ⎟\n",
      "  ⎝x  + y  + z     ⎠\n",
      "────────────────────\n",
      "                2   \n",
      "  ⎛ 2    2    2⎞    \n",
      "  ⎝x  + y  + z ⎠    \n"
     ]
    }
   ],
   "source": [
    "f = 1/(x**2 + y**2 + z**2)\n",
    "\n",
    "for i in [x,y,z]:\n",
    "    for j in [x,y,z]:\n",
    "        print('\\nAbleitung nach {} und nach {} = '.format(i,j))\n",
    "        pprint(diff(f, i, j))"
   ]
  },
  {
   "cell_type": "markdown",
   "id": "1a7d9f12-7dc5-4f2a-94a7-62984ae28cc9",
   "metadata": {},
   "source": [
    "## Aufgabe 3.3"
   ]
  },
  {
   "cell_type": "code",
   "execution_count": 15,
   "id": "34f9e9dd-9797-4ef2-a15a-fc5ea132a059",
   "metadata": {},
   "outputs": [
    {
     "name": "stdout",
     "output_type": "stream",
     "text": [
      "\n",
      "Ableitung nach x, nach x und nach x = \n",
      "6\n",
      "\n",
      "Ableitung nach x, nach x und nach y = \n",
      "     2\n",
      "4⋅y⋅z \n",
      "\n",
      "Ableitung nach x, nach x und nach z = \n",
      "   2  \n",
      "4⋅y ⋅z\n",
      "\n",
      "Ableitung nach x, nach y und nach x = \n",
      "     2\n",
      "4⋅y⋅z \n",
      "\n",
      "Ableitung nach x, nach y und nach y = \n",
      "     2\n",
      "4⋅x⋅z \n",
      "\n",
      "Ableitung nach x, nach y und nach z = \n",
      "8⋅x⋅y⋅z\n",
      "\n",
      "Ableitung nach x, nach z und nach x = \n",
      "   2  \n",
      "4⋅y ⋅z\n",
      "\n",
      "Ableitung nach x, nach z und nach y = \n",
      "8⋅x⋅y⋅z\n",
      "\n",
      "Ableitung nach x, nach z und nach z = \n",
      "     2\n",
      "4⋅x⋅y \n",
      "\n",
      "Ableitung nach y, nach x und nach x = \n",
      "     2\n",
      "4⋅y⋅z \n",
      "\n",
      "Ableitung nach y, nach x und nach y = \n",
      "     2\n",
      "4⋅x⋅z \n",
      "\n",
      "Ableitung nach y, nach x und nach z = \n",
      "8⋅x⋅y⋅z\n",
      "\n",
      "Ableitung nach y, nach y und nach x = \n",
      "     2\n",
      "4⋅x⋅z \n",
      "\n",
      "Ableitung nach y, nach y und nach y = \n",
      "6\n",
      "\n",
      "Ableitung nach y, nach y und nach z = \n",
      "   2  \n",
      "4⋅x ⋅z\n",
      "\n",
      "Ableitung nach y, nach z und nach x = \n",
      "8⋅x⋅y⋅z\n",
      "\n",
      "Ableitung nach y, nach z und nach y = \n",
      "   2  \n",
      "4⋅x ⋅z\n",
      "\n",
      "Ableitung nach y, nach z und nach z = \n",
      "   2  \n",
      "4⋅x ⋅y\n",
      "\n",
      "Ableitung nach z, nach x und nach x = \n",
      "   2  \n",
      "4⋅y ⋅z\n",
      "\n",
      "Ableitung nach z, nach x und nach y = \n",
      "8⋅x⋅y⋅z\n",
      "\n",
      "Ableitung nach z, nach x und nach z = \n",
      "     2\n",
      "4⋅x⋅y \n",
      "\n",
      "Ableitung nach z, nach y und nach x = \n",
      "8⋅x⋅y⋅z\n",
      "\n",
      "Ableitung nach z, nach y und nach y = \n",
      "   2  \n",
      "4⋅x ⋅z\n",
      "\n",
      "Ableitung nach z, nach y und nach z = \n",
      "   2  \n",
      "4⋅x ⋅y\n",
      "\n",
      "Ableitung nach z, nach z und nach x = \n",
      "     2\n",
      "4⋅x⋅y \n",
      "\n",
      "Ableitung nach z, nach z und nach y = \n",
      "   2  \n",
      "4⋅x ⋅y\n",
      "\n",
      "Ableitung nach z, nach z und nach z = \n",
      "6\n"
     ]
    }
   ],
   "source": [
    "f = x**2 * y**2 * z**2 + x**3 + y**3 + z**3\n",
    "\n",
    "for i in [x,y,z]:\n",
    "    for j in [x,y,z]:\n",
    "        for k in [x,y,z]:\n",
    "            print('\\nAbleitung nach {}, nach {} und nach {} = '.format(i,j,k))\n",
    "            pprint(diff(f, i, j, k))"
   ]
  }
 ],
 "metadata": {
  "kernelspec": {
   "display_name": "Python 3",
   "language": "python",
   "name": "python3"
  },
  "language_info": {
   "codemirror_mode": {
    "name": "ipython",
    "version": 3
   },
   "file_extension": ".py",
   "mimetype": "text/x-python",
   "name": "python",
   "nbconvert_exporter": "python",
   "pygments_lexer": "ipython3",
   "version": "3.8.3"
  }
 },
 "nbformat": 4,
 "nbformat_minor": 5
}
