{
 "cells": [
  {
   "cell_type": "markdown",
   "id": "8688af4b",
   "metadata": {},
   "source": [
    "Hinweise: Bitte gehen Sie als erstes auf `Kernel` und klicken Sie auf `Restart & Run all`, um alle nachfolgenden Zellen auszuführen. Die nachfolgende Zelle 1 können Sie ignorieren. Sie dient nur zum Laden der benötigten Module, aber Sie müssen Sie mindestens einmal ausführen. "
   ]
  },
  {
   "cell_type": "code",
   "execution_count": 1,
   "id": "d4788627",
   "metadata": {},
   "outputs": [],
   "source": [
    "%matplotlib inline\n",
    "import matplotlib.pylab as plt\n",
    "plt.style.use('seaborn')\n",
    "from numpy import *"
   ]
  },
  {
   "cell_type": "markdown",
   "id": "033cee33",
   "metadata": {},
   "source": [
    "## Flächeninhalte (Aufgaben 1.5 und 1.6)"
   ]
  },
  {
   "cell_type": "markdown",
   "id": "41f2460d",
   "metadata": {},
   "source": [
    "Bitte geben Sie die erste Funktion ein. Verändern Sie dazu den Ausdruck nach dem `return`. Quadratische Funktionen werden beispielsweise so geschrieben: `4 * x**2 - 17 * x + 9`. Ein Polynom 4. Grades beispielsweise so: `x**4 + 3 * x**3 - 5 * x**2 + 4 * x -8`. Die Sinusfunktion `sin`, die Kosinusfunktion `cos`, die Exponentialfunktion `exp` und die natürliche Loagrithmusfunktion `log`. Wenn Sie eine Wurzel (= square root in Englisch) verwenden wollen, können Sie die Funktion `sqrt`benutzen. \n",
    "Zuletzt führen Sie die Zelle einmal aus, indem Sie in die Zelle klicken und dann `Run`klicken."
   ]
  },
  {
   "cell_type": "code",
   "execution_count": 2,
   "id": "429bf282",
   "metadata": {},
   "outputs": [],
   "source": [
    "def f(x):\n",
    "    return x**(1/3)"
   ]
  },
  {
   "cell_type": "markdown",
   "id": "4ee2fb6e",
   "metadata": {},
   "source": [
    "Bitte geben Sie die zweite Funktion ein. Für die x-Achse schreiben Sie einfach\n",
    "```python\n",
    "def g(x):\n",
    "    return 0\n",
    "```\n"
   ]
  },
  {
   "cell_type": "code",
   "execution_count": 3,
   "id": "7a8ce33f",
   "metadata": {},
   "outputs": [],
   "source": [
    "def g(x):\n",
    "    return x**2"
   ]
  },
  {
   "cell_type": "markdown",
   "id": "b4bc6e05",
   "metadata": {},
   "source": [
    "Bitte führen Sie die nächste Zelle aus. Wenn Sie den Definitionsbereich ändern wollen, geben Sie bitte neue Werte für `x_min`und `x_max`an."
   ]
  },
  {
   "cell_type": "code",
   "execution_count": 4,
   "id": "ef8058aa",
   "metadata": {},
   "outputs": [
    {
     "data": {
      "text/plain": [
       "<matplotlib.legend.Legend at 0x7fa76c3aeeb0>"
      ]
     },
     "execution_count": 4,
     "metadata": {},
     "output_type": "execute_result"
    },
    {
     "data": {
      "image/png": "[encoded data removed]",
      "text/plain": [
       "<Figure size 576x396 with 1 Axes>"
      ]
     },
     "metadata": {},
     "output_type": "display_data"
    }
   ],
   "source": [
    "x_min = 0\n",
    "x_max = 2\n",
    "\n",
    "# generiere 1000 Punkte zwischen x_min und x_max\n",
    "x = linspace(x_min, x_max, 1000)\n",
    "\n",
    "# zeiche den Graph der beiden Funktionen \n",
    "fig, ax = plt.subplots()\n",
    "ax.plot(x, f(x), label='f(x)')\n",
    "ax.plot(x, g(x), label='g(x)')\n",
    "ax.legend()"
   ]
  },
  {
   "cell_type": "markdown",
   "id": "64d9a3aa",
   "metadata": {},
   "source": [
    "## Bogenlänge (Aufgabe 1.7)\n",
    "\n",
    "\n",
    "Die Bogenlänge $L$ einer Funktion $f(x)$ zwischen dem Startpunkt $(a, f(a))$ und dem Endpunkt $(b, f(b))$ berechnet sich nach der Formel\n",
    "\n",
    "$L = \\int_{a}^{b} \\sqrt{1+(f'(x)^2} \\; dx.$\n",
    "\n",
    "Im Folgenden wollen wir gegebene Funktionen symbolisch ableiten. Dazu benötigen wir zusätzliche Python-Kommandos, die in dem Modul `sympy` enthalten sind. Die laden wir jetzt mit dem Befehl `from sympy import *` nach:"
   ]
  },
  {
   "cell_type": "code",
   "execution_count": 5,
   "id": "a9b4ba5d",
   "metadata": {},
   "outputs": [],
   "source": [
    "from sympy import *"
   ]
  },
  {
   "cell_type": "markdown",
   "id": "7e64d40a",
   "metadata": {},
   "source": [
    "Als nächstes müssen wir dem Python-Interpreter \"erklären\", dass `x` keine Variable ist, sondern ein Symbol."
   ]
  },
  {
   "cell_type": "code",
   "execution_count": 6,
   "id": "77a60c1e",
   "metadata": {},
   "outputs": [],
   "source": [
    "x = symbols('x')"
   ]
  },
  {
   "cell_type": "markdown",
   "id": "5ced6491",
   "metadata": {},
   "source": [
    "Jetzt können wir mit dem Befehl `diff()` Funnktinen ableiten, z.B. `diff(sin(x))`:"
   ]
  },
  {
   "cell_type": "code",
   "execution_count": 7,
   "id": "ce6ca5df",
   "metadata": {},
   "outputs": [
    {
     "data": {
      "text/latex": [
       "$\\displaystyle \\cos{\\left(x \\right)}$"
      ],
      "text/plain": [
       "cos(x)"
      ]
     },
     "execution_count": 7,
     "metadata": {},
     "output_type": "execute_result"
    }
   ],
   "source": [
    "diff(sin(x))"
   ]
  },
  {
   "cell_type": "markdown",
   "id": "001bfc01",
   "metadata": {},
   "source": [
    "Mit dem Befehl `integrate( funktion ) ` kann man das unbestimmte Integral von Funktionen berechnen, mit `integrate( funktion, (x,a,b) ) ` auch das bestimmte Integral für das Intervall `[a,b]`."
   ]
  },
  {
   "cell_type": "code",
   "execution_count": 8,
   "id": "f4d7c009",
   "metadata": {},
   "outputs": [
    {
     "data": {
      "text/latex": [
       "$\\displaystyle \\sin{\\left(x \\right)}$"
      ],
      "text/plain": [
       "sin(x)"
      ]
     },
     "execution_count": 8,
     "metadata": {},
     "output_type": "execute_result"
    }
   ],
   "source": [
    "integrate(cos(x))"
   ]
  },
  {
   "cell_type": "code",
   "execution_count": 9,
   "id": "88644379",
   "metadata": {},
   "outputs": [
    {
     "data": {
      "text/latex": [
       "$\\displaystyle \\frac{28}{3}$"
      ],
      "text/plain": [
       "28/3"
      ]
     },
     "execution_count": 9,
     "metadata": {},
     "output_type": "execute_result"
    }
   ],
   "source": [
    "integrate(x**2, (x,-1,3))"
   ]
  },
  {
   "cell_type": "markdown",
   "id": "8648217f",
   "metadata": {},
   "source": [
    "Mit diesem Vorwissen können wir nun die Bogenlänge berechnen. Zuvor müssen wir dem Python-Interpreter noch mitteilen, dass `f` keine Variable ist, sondern eine allgemeine Funktion, ein sogenannte Symbol wie zuvor auch schon x."
   ]
  },
  {
   "cell_type": "code",
   "execution_count": 10,
   "id": "6e3a9176",
   "metadata": {},
   "outputs": [],
   "source": [
    "f = Function('f')"
   ]
  },
  {
   "cell_type": "markdown",
   "id": "8096f379",
   "metadata": {},
   "source": [
    "Danach können Sie aber direkt f definieren, z.B. als `f = sin(x) * x**2`. Wir lassen uns noch die 1. Ableitung ausgeben:"
   ]
  },
  {
   "cell_type": "code",
   "execution_count": 11,
   "id": "b9d6c707",
   "metadata": {},
   "outputs": [
    {
     "name": "stdout",
     "output_type": "stream",
     "text": [
      "Die erste Ableitung von f ist f'(x) =  2*x\n"
     ]
    }
   ],
   "source": [
    "f = x**2\n",
    "print(\"Die erste Ableitung von f ist f'(x) = \", diff(f))"
   ]
  },
  {
   "cell_type": "markdown",
   "id": "406c43df",
   "metadata": {},
   "source": [
    "Danach wählen wir noch a und b und berechnen die Bogenlänge nach der Formel\n",
    "\n",
    "$L = \\int_{a}^{b} \\sqrt{1+(f'(x)^2} \\; dx.$\n"
   ]
  },
  {
   "cell_type": "code",
   "execution_count": 12,
   "id": "eaacf9de",
   "metadata": {},
   "outputs": [
    {
     "name": "stdout",
     "output_type": "stream",
     "text": [
      "Die Bogenlänge ist:  asinh(2)/4 + sqrt(5)/2\n",
      "und als Fließkommazahl ist das  1.47894285754460\n"
     ]
    }
   ],
   "source": [
    "a = 0\n",
    "b = 1\n",
    "\n",
    "# Berechnung der Bogenlänge\n",
    "L = integrate ( sqrt( 1 + diff(f)**2 ), (x, a,b) )\n",
    "\n",
    "# Ausgabe\n",
    "print('Die Bogenlänge ist: ', L)\n",
    "print('und als Fließkommazahl ist das ', L.evalf())"
   ]
  }
 ],
 "metadata": {
  "kernelspec": {
   "display_name": "Python 3",
   "language": "python",
   "name": "python3"
  },
  "language_info": {
   "codemirror_mode": {
    "name": "ipython",
    "version": 3
   },
   "file_extension": ".py",
   "mimetype": "text/x-python",
   "name": "python",
   "nbconvert_exporter": "python",
   "pygments_lexer": "ipython3",
   "version": "3.8.3"
  }
 },
 "nbformat": 4,
 "nbformat_minor": 5
}
