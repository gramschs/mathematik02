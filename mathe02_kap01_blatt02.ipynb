{
 "cells": [
  {
   "cell_type": "markdown",
   "id": "8688af4b",
   "metadata": {},
   "source": [
    "Hinweise: Bitte gehen Sie als erstes auf `Kernel` und klicken Sie auf `Restart & Run all`, um alle nachfolgenden Zellen auszuführen. Die nachfolgende Zelle 1 können Sie ignorieren. Sie dient nur zum Laden der benötigten Module, aber Sie müssen Sie mindestens einmal ausführen. "
   ]
  },
  {
   "cell_type": "code",
   "execution_count": null,
   "id": "d4788627",
   "metadata": {},
   "outputs": [],
   "source": [
    "%matplotlib inline\n",
    "import matplotlib.pylab as plt\n",
    "plt.style.use('seaborn')\n",
    "from numpy import *"
   ]
  },
  {
   "cell_type": "markdown",
   "id": "033cee33",
   "metadata": {},
   "source": [
    "## Flächeninhalte (Aufgaben 1.5 und 1.6)"
   ]
  },
  {
   "cell_type": "markdown",
   "id": "41f2460d",
   "metadata": {},
   "source": [
    "Bitte geben Sie die erste Funktion ein. Verändern Sie dazu den Ausdruck nach dem `return`. Quadratische Funktionen werden beispielsweise so geschrieben: `4 * x**2 - 17 * x + 9`. Ein Polynom 4. Grades beispielsweise so: `x**4 + 3 * x**3 - 5 * x**2 + 4 * x -8`. Die Sinusfunktion `sin`, die Kosinusfunktion `cos`, die Exponentialfunktion `exp` und die natürliche Loagrithmusfunktion `log`. Wenn Sie eine Wurzel (= square root in Englisch) verwenden wollen, können Sie die Funktion `sqrt`benutzen. \n",
    "Zuletzt führen Sie die Zelle einmal aus, indem Sie in die Zelle klicken und dann `Run`klicken."
   ]
  },
  {
   "cell_type": "code",
   "execution_count": null,
   "id": "429bf282",
   "metadata": {},
   "outputs": [],
   "source": [
    "def f(x):\n",
    "    return x**(1/3)"
   ]
  },
  {
   "cell_type": "markdown",
   "id": "4ee2fb6e",
   "metadata": {},
   "source": [
    "Bitte geben Sie die zweite Funktion ein. Für die x-Achse schreiben Sie einfach\n",
    "```python\n",
    "def g(x):\n",
    "    return 0\n",
    "```\n"
   ]
  },
  {
   "cell_type": "code",
   "execution_count": null,
   "id": "7a8ce33f",
   "metadata": {},
   "outputs": [],
   "source": [
    "def g(x):\n",
    "    return x**2"
   ]
  },
  {
   "cell_type": "markdown",
   "id": "b4bc6e05",
   "metadata": {},
   "source": [
    "Bitte führen Sie die nächste Zelle aus. Wenn Sie den Definitionsbereich ändern wollen, geben Sie bitte neue Werte für `x_min`und `x_max`an."
   ]
  },
  {
   "cell_type": "code",
   "execution_count": null,
   "id": "ef8058aa",
   "metadata": {},
   "outputs": [],
   "source": [
    "x_min = 0\n",
    "x_max = 2\n",
    "\n",
    "# generiere 1000 Punkte zwischen x_min und x_max\n",
    "x = linspace(x_min, x_max, 1000)\n",
    "\n",
    "# zeiche den Graph der beiden Funktionen \n",
    "fig, ax = plt.subplots()\n",
    "ax.plot(x, f(x), label='f(x)')\n",
    "ax.plot(x, g(x), label='g(x)')\n",
    "ax.legend()"
   ]
  },
  {
   "cell_type": "markdown",
   "id": "d12aa6db",
   "metadata": {},
   "source": [
    "## Bogenlänge (Aufgabe 1.7)\n",
    "\n",
    "Die Bogenlänge $L$ einer Funktion $f(x)$ zwischen dem Startpunkt $(a, f(a))$ und dem Endpunkt $(b, f(b))$ berechnet sich nach der Formel\n",
    "\n",
    "$L = \\int_{a}^{b} \\sqrt{1+(f'(x)^2} \\; dx.$\n",
    "\n",
    "In Python lautet ein Code-Beispiel wie folgt. Zuerst wird die Funktion $f'$ an 1000 Punkten $x_i$ zwischen $a$ und $b$ ausgewertet und anschließend quadriert. Diese 1000 Werte $f'(x_i)$ werden als Vektor zwischengespeichert. Danach wird zu jedem Funktionswert $f'(x_i)$ eine 1 addiert und dann die Wurzel gezogen. Dieses Zwischenergebnis wird der Variablen `integrand` zugewiesen. Zuletzt berechnet man mit der Funktion `trapz` das Integral. `trapz` ist eine Funktion, die numerisch ein Integral nach der Trapezregel berechnet. Wikipedia erklärt die Trapezregel so: https://de.wikipedia.org/wiki/Trapezregel und Daniel Jung so: https://www.youtube.com/watch?v=6hqHufW0dD4 ."
   ]
  },
  {
   "cell_type": "code",
   "execution_count": null,
   "id": "600bfaa5",
   "metadata": {},
   "outputs": [],
   "source": [
    "def berechne_bogenlaenge(ableitung_f, a, b):\n",
    "    x = linspace(a, b, 1000)\n",
    "    integrand = sqrt( ones(1000) + ableitung_f(x)**2 )\n",
    "    ergebnis  = trapz(integrand, x)\n",
    "    return ergebnis"
   ]
  },
  {
   "cell_type": "markdown",
   "id": "fede4825",
   "metadata": {},
   "source": [
    "Bitte geben Sie hier $f'(x)$ ein:"
   ]
  },
  {
   "cell_type": "code",
   "execution_count": null,
   "id": "7019fdea",
   "metadata": {},
   "outputs": [],
   "source": [
    "def ableitung_f(x):\n",
    "    return 2*x"
   ]
  },
  {
   "cell_type": "markdown",
   "id": "091bb046",
   "metadata": {},
   "source": [
    "Bitte geben Sie anschließend a und b ein:"
   ]
  },
  {
   "cell_type": "code",
   "execution_count": null,
   "id": "a8deec32",
   "metadata": {},
   "outputs": [],
   "source": [
    "a = 0\n",
    "b = 1\n",
    "\n",
    "# Berechnung der Bogenlänge und Ausgabe\n",
    "bogenlaenge = berechne_bogenlaenge(ableitung_f, a, b)\n",
    "print(\"Die Bogenlänge ist \", bogenlaenge)"
   ]
  }
 ],
 "metadata": {
  "kernelspec": {
   "display_name": "Python 3",
   "language": "python",
   "name": "python3"
  },
  "language_info": {
   "codemirror_mode": {
    "name": "ipython",
    "version": 3
   },
   "file_extension": ".py",
   "mimetype": "text/x-python",
   "name": "python",
   "nbconvert_exporter": "python",
   "pygments_lexer": "ipython3",
   "version": "3.8.3"
  }
 },
 "nbformat": 4,
 "nbformat_minor": 5
}
