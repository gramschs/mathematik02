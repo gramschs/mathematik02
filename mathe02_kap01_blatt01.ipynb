{
 "cells": [
  {
   "cell_type": "markdown",
   "id": "c1dd28d6",
   "metadata": {},
   "source": [
    "Hinweise: Bitte gehen Sie als erstes auf `Kernel` und klicken Sie auf `Restart & Run all`, um alle nachfolgenden Zellen auszuführen. Die nachfolgende Zelle 1 können Sie ignorieren. Sie dient nur zum Laden der benötigten Module, aber Sie müssen Sie mindestens einmal ausführen. \n"
   ]
  },
  {
   "cell_type": "code",
   "execution_count": null,
   "id": "92b269fe",
   "metadata": {},
   "outputs": [],
   "source": [
    "%matplotlib inline\n",
    "import matplotlib.pylab as plt\n",
    "plt.style.use('seaborn')\n",
    "from numpy import *"
   ]
  },
  {
   "cell_type": "markdown",
   "id": "eaf642e1",
   "metadata": {},
   "source": [
    "Bitte geben Sie die erste Funktion ein. Verändern Sie dazu den Ausdruck nach dem `return`. Quadratische Funktionen werden beispielsweise so geschrieben: `4 * x**2 - 17 * x + 9`. Ein Polynom 4. Grades beispielsweise so: `x**4 + 3 * x**3 - 5 * x**2 + 4 * x -8`. Die Sinusfunktion `sin`, die Kosinusfunktion `cos`, die Exponentialfunktion `exp` und die natürliche Loagrithmusfunktion `log`. Wenn Sie eine Wurzel (= square root in Englisch) verwenden wollen, können Sie die Funktion `sqrt`benutzen. \n",
    "Zuletzt führen Sie die Zelle einmal aus, indem Sie in die Zelle klicken und dann `Run`klicken."
   ]
  },
  {
   "cell_type": "code",
   "execution_count": null,
   "id": "eb5fdae4",
   "metadata": {},
   "outputs": [],
   "source": [
    "def f(x):\n",
    "    return 3 * x**3 - 7 * sin(x)"
   ]
  },
  {
   "cell_type": "markdown",
   "id": "ed8514d5",
   "metadata": {},
   "source": [
    "Bitte führen Sie die nächste Zelle aus. Wenn Sie den Definitionsbereich ändern wollen, geben Sie bitte neue Werte für `x_min`und `x_max`an."
   ]
  },
  {
   "cell_type": "code",
   "execution_count": null,
   "id": "27462fb7",
   "metadata": {
    "scrolled": true
   },
   "outputs": [],
   "source": [
    "x_min = -3\n",
    "x_max = +3\n",
    "\n",
    "# generiere 1000 Punkte zwischen x_min und x_max\n",
    "x = linspace(x_min, x_max, 1000)\n",
    "\n",
    "# zeiche den Graph der beiden Funktionen \n",
    "fig, ax = plt.subplots()\n",
    "ax.plot(x, f(x))"
   ]
  },
  {
   "cell_type": "markdown",
   "id": "2ec81cbb",
   "metadata": {},
   "source": [
    "Hier finden Sie \"Kopiervorlagen\" für die Funktionen des Aufgabenblattes Kapitel 1, Übung 1:"
   ]
  },
  {
   "cell_type": "code",
   "execution_count": null,
   "id": "ab78f6c2",
   "metadata": {},
   "outputs": [],
   "source": [
    "def f12a(x):\n",
    "    return cos(x) * exp(sin(x))"
   ]
  },
  {
   "cell_type": "code",
   "execution_count": null,
   "id": "297dfa37",
   "metadata": {},
   "outputs": [],
   "source": [
    "def f12b(x):\n",
    "    return sin(3*x) * cos(3*x)"
   ]
  },
  {
   "cell_type": "code",
   "execution_count": null,
   "id": "92485e4c",
   "metadata": {},
   "outputs": [],
   "source": [
    "def f12c(x):\n",
    "    # Warum brauchen wir eine Fallunterscheidung (= if)?\n",
    "    \n",
    "    # x ist ein Array (=Vektor) mit Komponenten x[i]. Die Anzahl der Komponenten berechnet die Python-Funktion\n",
    "    # len(x). In einer sogenannten For-Schleife überprüfen wir bei jeder Komponente x[i], ob diese Komponente\n",
    "    # gleich 1 ist. Falls x[i] = 1 gilt (in Python schriebt man x[i] == 1, um auf Gleichheit zu testen), \n",
    "    # dann setzen wir den Funktionswert y  auf None, ansonsten auf y = f(x) = 1/(1-x)**3.\n",
    "    \n",
    "    y = zeros(len(x))    # initialisiert ein Array (=Vektor) mit Nullen, um die Funktionswerte y[i] zu speichern\n",
    "    for i in range(len(x)):\n",
    "        if x[i] == 1:\n",
    "            y[i] = None\n",
    "        else:\n",
    "            y[i] = 1/(1-x[i])**3\n",
    "    return y"
   ]
  },
  {
   "cell_type": "code",
   "execution_count": null,
   "id": "8ce926c0",
   "metadata": {},
   "outputs": [],
   "source": [
    "def f12d(x):\n",
    "    return x**2 * log(x)\n",
    "\n",
    "\n",
    "# Anmerkung: Eigentlich wäre eine Fallunterscheidung notwendig, da der Logarithmus nur für positive\n",
    "# Zahlen definiert ist. Daher kommt es beim Plot zur Fehlermeldung. Wer diese gerne vermeiden möchte,\n",
    "# kann auch folgende Alternative Funktionsdefinition nehmen -- siehe auch Funktion 1.2 c).\n",
    "\n",
    "def f12d_alternative(x):\n",
    "    y = zeros(len(x))\n",
    "    for i in range(len(x)):\n",
    "        if x[i] > 0:\n",
    "            y[i] = x[i]**2 * log(x[i])\n",
    "        else:\n",
    "            y[i] = None\n",
    "    return y"
   ]
  },
  {
   "cell_type": "code",
   "execution_count": null,
   "id": "517fb693",
   "metadata": {},
   "outputs": [],
   "source": [
    "def f12e(x):\n",
    "    return x**3 * cos(x**2)"
   ]
  },
  {
   "cell_type": "code",
   "execution_count": null,
   "id": "f79a97ce",
   "metadata": {},
   "outputs": [],
   "source": [
    "def f12f(x):\n",
    "    return sin(x)**3 * cos(x)"
   ]
  },
  {
   "cell_type": "code",
   "execution_count": null,
   "id": "b5a4e909",
   "metadata": {},
   "outputs": [],
   "source": [
    "# Warum wird anstatt der dritten Wurzel x**(1/3) verwendet?\n",
    "# Wie könnte man die Potenzen vereinfachen?\n",
    "\n",
    "def f12g(x):\n",
    "    return ( 4 * x * x**(1/3) + 3 * (x**5)**(1.0/4) ) / (2 * x * x**(1.0/4) )\n",
    "    \n",
    "\n",
    "# Alternative: Warum gibt es eine Fallunterscheidung (if)?\n",
    "def f12g_alternative(x):\n",
    "    y = zeros(len(x))\n",
    "    for i in range(len(x)):\n",
    "        if x[i] > 0:\n",
    "            y[i] = ( 4 * x[i] * x[i]**(1/3) + 3 * (x[i]**5)**(1.0/4) ) / (2 * x[i] * x[i]**(1.0/4) )\n",
    "        else:\n",
    "            y[i] = None\n",
    "    return y"
   ]
  },
  {
   "cell_type": "code",
   "execution_count": null,
   "id": "0554fdeb",
   "metadata": {},
   "outputs": [],
   "source": [
    "def f12h(x):\n",
    "    return x / sqrt(x**4 -1)\n",
    "\n",
    "\n",
    "# Warum gibt es eine Fallunterscheidung (if)?\n",
    "def f12h_alternative(x):\n",
    "    \n",
    "    y = zeros(len(x))\n",
    "    for i in range(len(x)):   \n",
    "        if x[i] == 1:\n",
    "            y[i] = None\n",
    "        else:\n",
    "            y[i] = x[i]/sqrt(x[i]**4 - 1)\n",
    "    return y"
   ]
  },
  {
   "cell_type": "code",
   "execution_count": null,
   "id": "b671671f",
   "metadata": {},
   "outputs": [],
   "source": [
    "def f14a(x):\n",
    "    return -0.25 * x**2 + 4"
   ]
  },
  {
   "cell_type": "code",
   "execution_count": null,
   "id": "93c4f84d",
   "metadata": {},
   "outputs": [],
   "source": [
    "def f14b(x):\n",
    "    return 3 * (x-2)**2 - 5"
   ]
  },
  {
   "cell_type": "code",
   "execution_count": null,
   "id": "46165058",
   "metadata": {},
   "outputs": [],
   "source": [
    "def f14c(x):\n",
    "    return sqrt(6 - 2 * x)\n",
    "\n",
    "\n",
    "def f14c_alternative(x):\n",
    "    \n",
    "    y = zeros(len(x))\n",
    "    for i in range(len(x)):   \n",
    "        if x[i] <= 3:\n",
    "            y[i] = sqrt(6 - 2 * x[i])\n",
    "        else:\n",
    "            y[i] = None\n",
    "    return y  "
   ]
  },
  {
   "cell_type": "code",
   "execution_count": null,
   "id": "d2d71df6",
   "metadata": {},
   "outputs": [],
   "source": [
    "def f14d(x):\n",
    "    return (x**2 - 4) / (x-5)\n",
    "\n",
    "\n",
    "def f14d_alternative(x):\n",
    "    \n",
    "    y = zeros(len(x))\n",
    "    for i in range(len(x)):\n",
    "        if x[i] == 5:\n",
    "            y[i] = None\n",
    "        else:\n",
    "            y[i] = (x[i]**2 - 4) / (x[i]-5)\n",
    "    \n",
    "    return y"
   ]
  }
 ],
 "metadata": {
  "kernelspec": {
   "display_name": "Python 3",
   "language": "python",
   "name": "python3"
  },
  "language_info": {
   "codemirror_mode": {
    "name": "ipython",
    "version": 3
   },
   "file_extension": ".py",
   "mimetype": "text/x-python",
   "name": "python",
   "nbconvert_exporter": "python",
   "pygments_lexer": "ipython3",
   "version": "3.8.3"
  }
 },
 "nbformat": 4,
 "nbformat_minor": 5
}
